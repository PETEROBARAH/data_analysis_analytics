{
 "cells": [
  {
   "cell_type": "code",
   "execution_count": 1,
   "metadata": {},
   "outputs": [],
   "source": [
    "import pandas as pd\n",
    "import matplotlib.pyplot as plt\n"
   ]
  },
  {
   "cell_type": "code",
   "execution_count": 2,
   "metadata": {},
   "outputs": [],
   "source": [
    "eb_data = pd.read_excel(r\"J:\\WORK\\energy_balance_q2.xlsx\", sheet_name='energy_balance_q2')\n",
    "eb_data['Length(KM)'] = eb_data['Length(KM)'].astype(int)\n"
   ]
  },
  {
   "cell_type": "code",
   "execution_count": null,
   "metadata": {},
   "outputs": [],
   "source": [
    "eb_data"
   ]
  },
  {
   "cell_type": "code",
   "execution_count": 87,
   "metadata": {},
   "outputs": [
    {
     "name": "stdout",
     "output_type": "stream",
     "text": [
      "772 765 698 689 685 528 511 \n",
      "\n",
      "Top 5 Longest feeders:\n"
     ]
    },
    {
     "data": {
      "text/plain": [
       "[772, 765, 698, 689, 685]"
      ]
     },
     "execution_count": 87,
     "metadata": {},
     "output_type": "execute_result"
    }
   ],
   "source": [
    "# function fetching feeders with length above 500km\n",
    "\n",
    "\n",
    "def Top5LongestFdrs_and_fdrs_above500km(fdr_data):\n",
    "    fdr_lenList = eb_data['Length(KM)'].to_list()\n",
    "    fdr_lenList.sort(reverse=True)\n",
    "    cnt = 0\n",
    "    i = 0\n",
    "    fdrs_above_500km = []\n",
    "    while i < len(fdr_lenList):\n",
    "        i = i + 1\n",
    "        if fdr_lenList[cnt] >= 500:\n",
    "            fdrs_above_500km.append(fdr_lenList[cnt])\n",
    "            print(fdr_lenList[cnt], end=' ')\n",
    "            cnt = cnt + 1\n",
    "            \n",
    "    #Top 5 longest feeders\n",
    "    top5_longest_fdr = []\n",
    "    for ind in fdr_lenList:\n",
    "        top5_longest_fdr.append(ind)\n",
    "        if len(top5_longest_fdr) == 5:\n",
    "            break        \n",
    "    \n",
    "    print(\"\\n\\nTop 5 Longest feeders:\")\n",
    "    return (top5_longest_fdr)\n",
    "\n",
    "    # Extract the top 5 feeders from dataframe\n",
    "    \n",
    "\n",
    "Top5LongestFdrs_and_fdrs_above500km(eb_data)\n"
   ]
  },
  {
   "cell_type": "code",
   "execution_count": 63,
   "metadata": {},
   "outputs": [
    {
     "data": {
      "text/plain": [
       "[772, 765, 698, 689, 685]"
      ]
     },
     "execution_count": 63,
     "metadata": {},
     "output_type": "execute_result"
    }
   ],
   "source": [
    "def top5_longest_fdr(fdr_data):\n",
    "    fdr_lenList = eb_data['Length(KM)'].to_list()\n",
    "    fdr_lenList.sort(reverse=True)\n",
    "    top5_longest_fdr = []\n",
    "    for ind in fdr_lenList:\n",
    "        top5_longest_fdr.append(ind)\n",
    "        if len(top5_longest_fdr) == 5:\n",
    "            break\n",
    "        \n",
    "    return top5_longest_fdr\n",
    "\n",
    "top5_longest_fdr(eb_data)"
   ]
  },
  {
   "cell_type": "code",
   "execution_count": 57,
   "metadata": {},
   "outputs": [
    {
     "name": "stdout",
     "output_type": "stream",
     "text": [
      "685\n"
     ]
    }
   ],
   "source": [
    "lst = [772, 765, 698, 689, 685, 528, 511]\n",
    "\n",
    "lst.index(765)\n",
    "fdr_lenList = eb_data['Length(KM)'].to_list()\n",
    "print(len(fdr_lenList))"
   ]
  },
  {
   "cell_type": "code",
   "execution_count": null,
   "metadata": {},
   "outputs": [],
   "source": []
  },
  {
   "cell_type": "code",
   "execution_count": null,
   "metadata": {},
   "outputs": [],
   "source": [
    "type(fdr_lenList[1])"
   ]
  },
  {
   "cell_type": "code",
   "execution_count": null,
   "metadata": {},
   "outputs": [],
   "source": [
    "eb_data['COUNTY'].unique().tolist(), end=\" \""
   ]
  },
  {
   "cell_type": "code",
   "execution_count": null,
   "metadata": {},
   "outputs": [],
   "source": [
    "def count():\n",
    "    nums = [1,35,12,24,31,51,70,100, 14, 10, 50]\n",
    "    i = 0\n",
    "    cnt = 0\n",
    "    while i < len(nums):\n",
    "        if nums[i] < 20:\n",
    "            cnt += 1\n",
    "        i += 1\n",
    "    else:\n",
    "        print(\"Value greater than 20\")\n",
    "    print(cnt)\n",
    "count()"
   ]
  },
  {
   "cell_type": "code",
   "execution_count": null,
   "metadata": {},
   "outputs": [],
   "source": [
    "lst = [12, 54, 4, 7, 82, 10]\n",
    "count(lst)"
   ]
  },
  {
   "cell_type": "code",
   "execution_count": null,
   "metadata": {},
   "outputs": [],
   "source": [
    "nums = [1,35,12,24,31,51,70,100]\n",
    "def count(nums):\n",
    "    i = 0\n",
    "    cnt = 0\n",
    "    while i < len(nums):\n",
    "        if nums[i] < 20:\n",
    "            cnt += 1.\n",
    "        i += 1\n",
    "    return(cnt)\n",
    "count(nums)"
   ]
  },
  {
   "cell_type": "code",
   "execution_count": 58,
   "metadata": {},
   "outputs": [],
   "source": [
    "student_age = [17, 20, 21, 10, 50]\n",
    "def age_above30(x):\n",
    "    for ages in x:\n",
    "        if ages > 30:\n",
    "            print(ages, end=\" \")\n",
    "        else:\n",
    "            continue\n",
    "    #print(\"No student is above 30 years of age.\")"
   ]
  },
  {
   "cell_type": "code",
   "execution_count": null,
   "metadata": {},
   "outputs": [],
   "source": [
    "age_above30(student_age)"
   ]
  },
  {
   "cell_type": "code",
   "execution_count": 60,
   "metadata": {},
   "outputs": [],
   "source": [
    "student_age = [17, 20, 21, 10, 50]"
   ]
  },
  {
   "cell_type": "code",
   "execution_count": null,
   "metadata": {},
   "outputs": [],
   "source": []
  }
 ],
 "metadata": {
  "kernelspec": {
   "display_name": "KPLC WORKSPACE",
   "language": "python",
   "name": "kplc_workspace"
  },
  "language_info": {
   "codemirror_mode": {
    "name": "ipython",
    "version": 3
   },
   "file_extension": ".py",
   "mimetype": "text/x-python",
   "name": "python",
   "nbconvert_exporter": "python",
   "pygments_lexer": "ipython3",
   "version": "3.13.2"
  }
 },
 "nbformat": 4,
 "nbformat_minor": 2
}
